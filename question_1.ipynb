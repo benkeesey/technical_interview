{
 "cells": [
  {
   "cell_type": "code",
   "execution_count": null,
   "id": "53d1f5fd",
   "metadata": {},
   "outputs": [],
   "source": [
    "import pandas as pd\n",
    "from typing import Dict\n",
    "\n",
    "from test_data import create_sample_data, get_weekly_sales_data"
   ]
  },
  {
   "cell_type": "markdown",
   "id": "1f23c205",
   "metadata": {},
   "source": [
    "Technical Interview Question 1: Data Batching and Transformation Exercise\n",
    "\n",
    "1. Implement the `process_sales_batch()` function according to the specifications in its docstring.\n",
    "   This function should process a batch of sales data, performing aggregation and calculations."
   ]
  },
  {
   "cell_type": "code",
   "execution_count": null,
   "id": "71154b6e",
   "metadata": {},
   "outputs": [],
   "source": [
    "sales_data, asset_data = create_sample_data()\n",
    "weekly_results = get_weekly_sales_data(sales_data)"
   ]
  },
  {
   "cell_type": "code",
   "execution_count": null,
   "id": "0ce913e5",
   "metadata": {},
   "outputs": [],
   "source": [
    "def process_sales_batch(sales_data: pd.DataFrame) -> pd.DataFrame:\n",
    "    \"\"\"\n",
    "    Process a single weekly batch of sales data.\n",
    "    \n",
    "    For each batch:\n",
    "    1. Group by portfolio_id and asset_type\n",
    "    2. Calculate total sales amount (MWh * price)\n",
    "    3. Calculate average price per product\n",
    "    4. Count number of transactions\n",
    "    5. Retain the year_week information for each group\n",
    "\n",
    "    Parameters:\n",
    "    -----------\n",
    "    sales_data : pd.DataFrame\n",
    "        Weekly batch of sales data containing columns:\n",
    "        - portfolio_id: Identifier for the portfolio\n",
    "        - asset_type: Type of asset\n",
    "        - MWh: Sum of Energy volume in MegaWatt hours\n",
    "        - price: Average Price per MWh\n",
    "        - sales_amount: Total sales amount (MWh * price)\n",
    "        - transaction_count: Transaction number of date\n",
    "        - year_week: Week and year of the transaction\n",
    "\n",
    "    Returns:\n",
    "    --------\n",
    "    pd.DataFrame: A DataFrame with aggregated sales metrics\n",
    "    \"\"\"\n",
    "    \n",
    "    return "
   ]
  },
  {
   "cell_type": "code",
   "execution_count": null,
   "id": "50b8992f",
   "metadata": {},
   "outputs": [],
   "source": []
  },
  {
   "cell_type": "markdown",
   "id": "9a6c11ab",
   "metadata": {},
   "source": [
    "-------------------------"
   ]
  },
  {
   "cell_type": "markdown",
   "id": "eab8956f",
   "metadata": {},
   "source": [
    "### Expected result DataFrame"
   ]
  },
  {
   "cell_type": "code",
   "execution_count": null,
   "id": "cb806c7f",
   "metadata": {},
   "outputs": [],
   "source": [
    "example_sales_data = pd.read_csv(\"question_1_result.csv\")\n",
    "example_sales_data.head()"
   ]
  },
  {
   "cell_type": "code",
   "execution_count": null,
   "id": "b543caa8",
   "metadata": {},
   "outputs": [],
   "source": []
  }
 ],
 "metadata": {
  "kernelspec": {
   "display_name": "dev",
   "language": "python",
   "name": "python3"
  },
  "language_info": {
   "codemirror_mode": {
    "name": "ipython",
    "version": 3
   },
   "file_extension": ".py",
   "mimetype": "text/x-python",
   "name": "python",
   "nbconvert_exporter": "python",
   "pygments_lexer": "ipython3",
   "version": "3.12.9"
  }
 },
 "nbformat": 4,
 "nbformat_minor": 5
}
