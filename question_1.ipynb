{
 "cells": [
  {
   "cell_type": "code",
   "execution_count": null,
   "id": "53d1f5fd",
   "metadata": {},
   "outputs": [],
   "source": [
    "import pandas as pd\n",
    "from typing import Dict\n",
    "\n",
    "from test_data import create_sample_data, get_weekly_sales_data"
   ]
  },
  {
   "cell_type": "markdown",
   "id": "1f23c205",
   "metadata": {},
   "source": [
    "Technical Interview Question 1: Data Batching and Transformation Exercise\n",
    "\n",
    "1. Implement the `process_sales_batch()` function according to the specifications in its docstring.\n",
    "   This function should process a batch of sales data, performing aggregation and calculations."
   ]
  },
  {
   "cell_type": "code",
   "execution_count": null,
   "id": "71154b6e",
   "metadata": {},
   "outputs": [],
   "source": [
    "sales_data, asset_data = create_sample_data()\n",
    "weekly_results = get_weekly_sales_data(sales_data)"
   ]
  },
  {
   "cell_type": "code",
   "execution_count": null,
   "id": "0ce913e5",
   "metadata": {},
   "outputs": [],
   "source": [
    "def process_sales_batch(sales_data: pd.DataFrame) -> pd.DataFrame:\n",
    "    \"\"\"\n",
    "    Process a single weekly batch of sales data.\n",
    "    \n",
    "    For each batch:\n",
    "    1. Group by portfolio_id and asset_type\n",
    "    2. Calculate total sales amount (MWh * price)\n",
    "    3. Calculate average price per product\n",
    "    4. Count number of transactions\n",
    "    5. Retain the year_week information for each group\n",
    "\n",
    "    Parameters:\n",
    "    -----------\n",
    "    sales_data : pd.DataFrame\n",
    "        Weekly batch of sales data containing columns:\n",
    "        - portfolio_id: Identifier for the portfolio\n",
    "        - asset_type: Type of asset\n",
    "        - MWh: Sum of Energy volume in MegaWatt hours\n",
    "        - price: Average Price per MWh\n",
    "        - sales_amount: Total sales amount (MWh * price)\n",
    "        - transaction_count: Transaction number of date\n",
    "        - year_week: Week and year of the transaction\n",
    "\n",
    "    Returns:\n",
    "    --------\n",
    "    pd.DataFrame: A DataFrame with aggregated sales metrics\n",
    "    \"\"\"\n",
    "    \n",
    "    return "
   ]
  },
  {
   "cell_type": "code",
   "execution_count": null,
   "id": "50b8992f",
   "metadata": {},
   "outputs": [],
   "source": []
  },
  {
   "cell_type": "markdown",
   "id": "9a6c11ab",
   "metadata": {},
   "source": [
    "-------------------------"
   ]
  },
  {
   "cell_type": "markdown",
   "id": "eab8956f",
   "metadata": {},
   "source": [
    "### Expected result DataFrame"
   ]
  },
  {
   "cell_type": "code",
   "execution_count": 10,
   "id": "cb806c7f",
   "metadata": {},
   "outputs": [
    {
     "data": {
      "text/html": [
       "<div>\n",
       "<style scoped>\n",
       "    .dataframe tbody tr th:only-of-type {\n",
       "        vertical-align: middle;\n",
       "    }\n",
       "\n",
       "    .dataframe tbody tr th {\n",
       "        vertical-align: top;\n",
       "    }\n",
       "\n",
       "    .dataframe thead th {\n",
       "        text-align: right;\n",
       "    }\n",
       "</style>\n",
       "<table border=\"1\" class=\"dataframe\">\n",
       "  <thead>\n",
       "    <tr style=\"text-align: right;\">\n",
       "      <th></th>\n",
       "      <th>portfolio_id</th>\n",
       "      <th>asset_type</th>\n",
       "      <th>MWh</th>\n",
       "      <th>price</th>\n",
       "      <th>sales_amount</th>\n",
       "      <th>transaction_count</th>\n",
       "      <th>year_week</th>\n",
       "    </tr>\n",
       "  </thead>\n",
       "  <tbody>\n",
       "    <tr>\n",
       "      <th>0</th>\n",
       "      <td>A001</td>\n",
       "      <td>Gas</td>\n",
       "      <td>546</td>\n",
       "      <td>116.798947</td>\n",
       "      <td>65954.36</td>\n",
       "      <td>19</td>\n",
       "      <td>2023-01</td>\n",
       "    </tr>\n",
       "    <tr>\n",
       "      <th>1</th>\n",
       "      <td>A001</td>\n",
       "      <td>Solar</td>\n",
       "      <td>371</td>\n",
       "      <td>120.671176</td>\n",
       "      <td>47394.88</td>\n",
       "      <td>17</td>\n",
       "      <td>2023-01</td>\n",
       "    </tr>\n",
       "    <tr>\n",
       "      <th>2</th>\n",
       "      <td>A001</td>\n",
       "      <td>Wind</td>\n",
       "      <td>477</td>\n",
       "      <td>89.453750</td>\n",
       "      <td>41957.26</td>\n",
       "      <td>16</td>\n",
       "      <td>2023-01</td>\n",
       "    </tr>\n",
       "    <tr>\n",
       "      <th>3</th>\n",
       "      <td>B002</td>\n",
       "      <td>Gas</td>\n",
       "      <td>303</td>\n",
       "      <td>112.848462</td>\n",
       "      <td>43064.10</td>\n",
       "      <td>13</td>\n",
       "      <td>2023-01</td>\n",
       "    </tr>\n",
       "    <tr>\n",
       "      <th>4</th>\n",
       "      <td>B002</td>\n",
       "      <td>Solar</td>\n",
       "      <td>352</td>\n",
       "      <td>70.630667</td>\n",
       "      <td>25138.41</td>\n",
       "      <td>15</td>\n",
       "      <td>2023-01</td>\n",
       "    </tr>\n",
       "  </tbody>\n",
       "</table>\n",
       "</div>"
      ],
      "text/plain": [
       "  portfolio_id asset_type  MWh       price  sales_amount  transaction_count  \\\n",
       "0         A001        Gas  546  116.798947      65954.36                 19   \n",
       "1         A001      Solar  371  120.671176      47394.88                 17   \n",
       "2         A001       Wind  477   89.453750      41957.26                 16   \n",
       "3         B002        Gas  303  112.848462      43064.10                 13   \n",
       "4         B002      Solar  352   70.630667      25138.41                 15   \n",
       "\n",
       "  year_week  \n",
       "0   2023-01  \n",
       "1   2023-01  \n",
       "2   2023-01  \n",
       "3   2023-01  \n",
       "4   2023-01  "
      ]
     },
     "execution_count": 10,
     "metadata": {},
     "output_type": "execute_result"
    }
   ],
   "source": [
    "example_sales_data = pd.read_csv(\"question_1_result.csv\")\n",
    "example_sales_data.head()"
   ]
  },
  {
   "cell_type": "code",
   "execution_count": null,
   "id": "2ee2b744",
   "metadata": {},
   "outputs": [],
   "source": []
  },
  {
   "cell_type": "code",
   "execution_count": null,
   "id": "b543caa8",
   "metadata": {},
   "outputs": [],
   "source": []
  }
 ],
 "metadata": {
  "kernelspec": {
   "display_name": "dev",
   "language": "python",
   "name": "python3"
  },
  "language_info": {
   "codemirror_mode": {
    "name": "ipython",
    "version": 3
   },
   "file_extension": ".py",
   "mimetype": "text/x-python",
   "name": "python",
   "nbconvert_exporter": "python",
   "pygments_lexer": "ipython3",
   "version": "3.12.9"
  }
 },
 "nbformat": 4,
 "nbformat_minor": 5
}
