{
 "cells": [
  {
   "cell_type": "code",
   "execution_count": 6,
   "id": "a7237b8f",
   "metadata": {},
   "outputs": [],
   "source": [
    "import pandas as pd\n",
    "from typing import Dict\n",
    "\n",
    "from test_data import create_sample_data, get_weekly_sales_data"
   ]
  },
  {
   "cell_type": "code",
   "execution_count": null,
   "id": "9586666b",
   "metadata": {},
   "outputs": [],
   "source": [
    "from technical_interview_solution import process_sales_batch, combine_sales_with_asset_data, create_consolidated_weekly_report"
   ]
  },
  {
   "cell_type": "code",
   "execution_count": 8,
   "id": "3090807e",
   "metadata": {},
   "outputs": [
    {
     "name": "stdout",
     "output_type": "stream",
     "text": [
      "Fetching data for week: 2023-01\n",
      "Fetching data for week: 2023-02\n",
      "Fetching data for week: 2023-03\n",
      "Fetching data for week: 2023-04\n"
     ]
    },
   ],
   "source": [
    "sales_data, asset_data = create_sample_data()\n",
    "weekly_results = get_weekly_sales_data(sales_data)"
   ]
  },
  {
   "cell_type": "code",
   "execution_count": 11,
   "id": "7143f876",
   "metadata": {},
   "outputs": [
    {
     "name": "stdout",
     "output_type": "stream",
     "text": [
      "Fetching data for week: 2023-01\n",
      "Fetching data for week: 2023-02\n",
      "Fetching data for week: 2023-03\n",
      "Fetching data for week: 2023-04\n"
     ]
    }
   ],
   "source": [
    "weekly_results = get_weekly_sales_data(sales_data)"
   ]
  },
  {
   "cell_type": "code",
   "execution_count": 20,
   "id": "07d1c83e",
   "metadata": {},
   "outputs": [],
   "source": [
    "def run_pipeline(weekly_results: Dict[str, pd.DataFrame]) -> Dict[str, pd.DataFrame]:\n",
    "    \"\"\"\n",
    "    Runs the entire sales data processing pipeline.\n",
    "    \n",
    "    This function:\n",
    "    1. Processes sales data in batches by month\n",
    "    2. Combines each processed batch with asset data\n",
    "    3. Generates a consolidated report from all processed months and returns its results.\n",
    "    \n",
    "    Parameters:\n",
    "    -----------\n",
    "    weekly_results : Dict[str, pd.DataFrame]\n",
    "        Dict containing monthly sales data as if from a batched API call.\n",
    "        \n",
    "    \"\"\"\n",
    "    processed_weekly_results = {}\n",
    "    for week in weekly_results:\n",
    "        processed_monthly_data = process_sales_batch(weekly_results[week])\n",
    "        combined_weekly_results = combine_sales_with_asset_data(processed_monthly_data, asset_data)\n",
    "        processed_weekly_results[week] = combined_weekly_results\n",
    "        print(f\"Combined with Asset data for month: {week}\")\n",
    "\n",
    "    print(f\"Processed data for {len(processed_weekly_results)} months\")\n",
    "    return create_consolidated_weekly_report(processed_weekly_results)\n"
   ]
  },
  {
   "cell_type": "code",
   "execution_count": 21,
   "id": "4cdd3adf",
   "metadata": {},
   "outputs": [
    {
     "name": "stdout",
     "output_type": "stream",
     "text": [
      "Combined with Asset data for month: 2023-01\n",
      "Combined with Asset data for month: 2023-02\n",
      "Combined with Asset data for month: 2023-03\n",
      "Combined with Asset data for month: 2023-04\n",
      "Processed data for 4 months\n"
     ]
    }
   ],
   "source": [
    "weekly_comparison, summary, all_weeks_data = run_pipeline(weekly_results)"
   ]
  }
 ],
 "metadata": {
  "kernelspec": {
   "display_name": "dev",
   "language": "python",
   "name": "python3"
  },
  "language_info": {
   "codemirror_mode": {
    "name": "ipython",
    "version": 3
   },
   "file_extension": ".py",
   "mimetype": "text/x-python",
   "name": "python",
   "nbconvert_exporter": "python",
   "pygments_lexer": "ipython3",
   "version": "3.12.9"
  }
 },
 "nbformat": 4,
 "nbformat_minor": 5
}
