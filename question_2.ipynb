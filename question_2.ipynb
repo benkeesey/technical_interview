{
 "cells": [
  {
   "cell_type": "code",
   "execution_count": null,
   "id": "99304795",
   "metadata": {},
   "outputs": [],
   "source": [
    "import pandas as pd\n",
    "from typing import Dict\n",
    "\n",
    "from test_data import create_sample_data, get_weekly_sales_data\n",
    "from technical_interview_solution import process_sales_batch"
   ]
  },
  {
   "cell_type": "markdown",
   "id": "e0b69c34",
   "metadata": {},
   "source": [
    "Technical Interview Question 2:\n",
    "\n",
    "2. For both `combine_sales_with_asset_data()` and `create_consolidated_weekly_report()` functions:\n",
    "   - Explain the purpose of the function and its parameters to us.\n",
    "   - Write a docstring and type hints for these functions."
   ]
  },
  {
   "cell_type": "code",
   "execution_count": null,
   "id": "19330496",
   "metadata": {},
   "outputs": [],
   "source": [
    "def combine_sales_with_asset_data(\n",
    "    sales_results, \n",
    "    asset_data, \n",
    "):\n",
    "    \"\"\"\n",
    "    Docstring\n",
    "    \"\"\"\n",
    "    # Agg asset data by portfolio_id to get portfolio-level metrics\n",
    "    asset_portfolio_summary = asset_data.groupby('portfolio_id').agg({\n",
    "        'asset_id': 'count',\n",
    "        'geography': lambda x: x.mode().iloc[0] if not x.mode().empty else None,\n",
    "        'ISO': lambda x: list(x.unique()),\n",
    "        'operational_date': ['min', 'max'],\n",
    "        'timezone': lambda x: list(x.unique())\n",
    "    })\n",
    "    \n",
    "    asset_portfolio_summary.columns = [\n",
    "        'asset_count', 'primary_geography', 'iso_regions', \n",
    "        'oldest_asset_date', 'newest_asset_date', 'timezones'\n",
    "    ]\n",
    "    asset_portfolio_summary = asset_portfolio_summary.reset_index()\n",
    "    \n",
    "    # Calculate portfolio age in years. 365.25 is used to account for leap years.\n",
    "    today = pd.Timestamp.now().date()\n",
    "    asset_portfolio_summary['portfolio_age_years'] = asset_portfolio_summary['oldest_asset_date'].apply(\n",
    "        lambda x: (today - x).days / 365.25\n",
    "    ).round(1)\n",
    "    \n",
    "    combined_data = pd.merge(\n",
    "        sales_results,\n",
    "        asset_portfolio_summary,\n",
    "        on='portfolio_id',\n",
    "        how='left'\n",
    "    )\n",
    "    \n",
    "    combined_data['mwh_per_asset'] = combined_data['MWh'] / combined_data['asset_count']\n",
    "    combined_data['revenue_per_asset'] = combined_data['sales_amount'] / combined_data['asset_count']\n",
    "    combined_data['revenue_per_mwh'] = combined_data['sales_amount'] / combined_data['MWh']\n",
    "\n",
    "    \n",
    "    return combined_data"
   ]
  },
  {
   "cell_type": "code",
   "execution_count": null,
   "id": "1577acda",
   "metadata": {},
   "outputs": [],
   "source": [
    "def create_consolidated_weekly_report(\n",
    "        combined_weekly_data: Dict[str, pd.DataFrame]\n",
    ") -> tuple[pd.DataFrame, pd.DataFrame, pd.DataFrame]:\n",
    "    \"\"\"\n",
    "    Creates a consolidated report by combining all batches of processed weekly data. \n",
    "    \n",
    "    Parameters:\n",
    "    -----------\n",
    "    weekly_data : Dict[str, pd.DataFrame]\n",
    "        Dictionary containing processed data\n",
    "        for each week of data after having been processed by the\n",
    "        `process_sales_batch` and `combine_sales_with_asset_data` funcation.\n",
    "        Keys: Week identifiers (e.g., '2023-01', '2023-02')\n",
    "        Values: DataFrames with the processed and combined data for each week\n",
    "        \n",
    "    Returns:\n",
    "    --------\n",
    "    tuple[pd.DataFrame, pd.DataFrame, pd.DataFrame]\n",
    "        - weekly_comparison: Pivot table comparing metrics across weeks\n",
    "        - summary: Overall summary across all weeks\n",
    "        - all_data: Complete consolidated dataset\n",
    "    \"\"\"  \n",
    "    all_weeks_data = pd.concat(combined_weekly_data.values(), ignore_index=True)\n",
    "    \n",
    "    weekly_comparison = pd.pivot_table(\n",
    "        all_weeks_data, \n",
    "        values=['MWh', 'sales_amount', 'price', 'revenue_per_mwh'],\n",
    "        index=['portfolio_id', 'asset_type'],\n",
    "        columns='year_week'\n",
    "    )\n",
    "    \n",
    "    weekly_comparison = weekly_comparison.reset_index()\n",
    "    \n",
    "    summary = all_weeks_data.groupby(['portfolio_id', 'asset_type']).agg({\n",
    "        'MWh': 'sum',\n",
    "        'sales_amount': 'sum',\n",
    "        'transaction_count': 'sum',\n",
    "        'price': 'mean',\n",
    "        'asset_count': 'first',\n",
    "        'primary_geography': 'first',\n",
    "        'portfolio_age_years': 'first'\n",
    "    }).reset_index()\n",
    "    \n",
    "    summary['avg_weekly_revenue'] = summary['sales_amount'] / len(combined_weekly_data)\n",
    "    summary['avg_revenue_per_mwh'] = summary['sales_amount'] / summary['MWh']\n",
    "    \n",
    "    return weekly_comparison, summary, all_weeks_data"
   ]
  },
  {
   "cell_type": "markdown",
   "id": "3d96e87f",
   "metadata": {},
   "source": [
    "-------------------------\n",
    "### Examples Outputs"
   ]
  },
  {
   "cell_type": "code",
   "execution_count": null,
   "id": "aafbc488",
   "metadata": {},
   "outputs": [],
   "source": [
    "sales_data, asset_data = create_sample_data()\n",
    "weekly_results = get_weekly_sales_data(sales_data)"
   ]
  },
  {
   "cell_type": "code",
   "execution_count": null,
   "id": "fac0f9e4",
   "metadata": {},
   "outputs": [],
   "source": [
    "result = process_sales_batch(weekly_results['2023-01'])\n",
    "result.head()"
   ]
  },
  {
   "cell_type": "code",
   "execution_count": null,
   "id": "5a3fb009",
   "metadata": {},
   "outputs": [],
   "source": [
    "combine_sales_and_asset_data = combine_sales_with_asset_data(result, asset_data)\n",
    "combine_sales_and_asset_data.head()"
   ]
  },
  {
   "cell_type": "code",
   "execution_count": null,
   "id": "70bd96d7",
   "metadata": {},
   "outputs": [],
   "source": []
  },
  {
   "cell_type": "code",
   "execution_count": null,
   "id": "fb25c42f",
   "metadata": {},
   "outputs": [],
   "source": []
  }
 ],
 "metadata": {
  "kernelspec": {
   "display_name": "dev",
   "language": "python",
   "name": "python3"
  },
  "language_info": {
   "codemirror_mode": {
    "name": "ipython",
    "version": 3
   },
   "file_extension": ".py",
   "mimetype": "text/x-python",
   "name": "python",
   "nbconvert_exporter": "python",
   "pygments_lexer": "ipython3",
   "version": "3.12.9"
  }
 },
 "nbformat": 4,
 "nbformat_minor": 5
}
