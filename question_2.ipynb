{
 "cells": [
  {
   "cell_type": "code",
   "execution_count": null,
   "id": "99304795",
   "metadata": {},
   "outputs": [],
   "source": [
    "import pandas as pd\n",
    "from typing import Dict\n",
    "\n",
    "from test_data import create_sample_data, get_weekly_sales_data\n",
    "from technical_interview_solution import process_sales_batch"
   ]
  },
  {
   "cell_type": "markdown",
   "id": "e0b69c34",
   "metadata": {},
   "source": [
    "Technical Interview Question 2:\n",
    "\n",
    "2. For both `combine_sales_with_asset_data()` and `create_consolidated_weekly_report()` functions:\n",
    "   - Explain the purpose of the function and its parameters to us.\n",
    "   - Write a docstring and type hints for these functions."
   ]
  },
  {
   "cell_type": "code",
   "execution_count": null,
   "id": "9f56d49d",
   "metadata": {},
   "outputs": [],
   "source": [
    "sales_data, asset_data = create_sample_data()\n",
    "weekly_results = get_weekly_sales_data(sales_data)"
   ]
  },
  {
   "cell_type": "code",
   "execution_count": null,
   "id": "f06a0059",
   "metadata": {},
   "outputs": [],
   "source": [
    "result = process_sales_batch(weekly_results['2023-01'])"
   ]
  },
  {
   "cell_type": "code",
   "execution_count": null,
   "id": "19330496",
   "metadata": {},
   "outputs": [],
   "source": [
    "def combine_sales_with_asset_data(sales_results: pd.DataFrame, asset_data: pd.DataFrame, target_tz: str = None) -> pd.DataFrame:\n",
    "    \"\"\"\n",
    "    Docstring\n",
    "    \"\"\"\n",
    "    # Comment\n",
    "    datetime_cols = [col for col in sales_results.columns if sales_results[col].dtype == 'datetime64[ns]']\n",
    "    for col in datetime_cols:\n",
    "        if pd.api.types.is_datetime64_any_dtype(sales_results[col]):\n",
    "            if sales_results[col].dt.tz is None:\n",
    "                sales_results[col] = sales_results[col].dt.tz_localize('UTC')\n",
    "            else:\n",
    "                sales_results[col] = sales_results[col].dt.tz_convert('UTC')\n",
    "    \n",
    "    # Comment\n",
    "    asset_portfolio_summary = asset_data.groupby('portfolio_id').agg({\n",
    "        'asset_id': 'count',\n",
    "        'geography': lambda x: x.mode().iloc[0] if not x.mode().empty else None,\n",
    "        'ISO': lambda x: list(x.unique()),\n",
    "        'operational_date': ['min', 'max'],\n",
    "        'timezone': lambda x: list(x.unique())\n",
    "    })\n",
    "    \n",
    "    asset_portfolio_summary.columns = [\n",
    "        'asset_count', 'primary_geography', 'iso_regions', \n",
    "        'oldest_asset_date', 'newest_asset_date', 'timezones'\n",
    "    ]\n",
    "    asset_portfolio_summary = asset_portfolio_summary.reset_index()\n",
    "    \n",
    "    today = pd.Timestamp.now().date()\n",
    "    asset_portfolio_summary['portfolio_age_years'] = asset_portfolio_summary['oldest_asset_date'].apply(\n",
    "        lambda x: (today - x).days / 365.25\n",
    "    ).round(1)\n",
    "    \n",
    "    combined_data = pd.merge(\n",
    "        sales_results,\n",
    "        asset_portfolio_summary,\n",
    "        on='portfolio_id',\n",
    "        how='left'\n",
    "    )\n",
    "    \n",
    "    combined_data['mwh_per_asset'] = combined_data['MWh'] / combined_data['asset_count']\n",
    "    combined_data['revenue_per_asset'] = combined_data['sales_amount'] / combined_data['asset_count']\n",
    "    combined_data['revenue_per_mwh'] = combined_data['sales_amount'] / combined_data['MWh']\n",
    "    \n",
    "    # Comment\n",
    "    if target_tz:\n",
    "        for col in datetime_cols:\n",
    "            if pd.api.types.is_datetime64_any_dtype(combined_data[col]):\n",
    "                combined_data[col] = combined_data[col].dt.tz_convert(target_tz)\n",
    "                \n",
    "        combined_data['target_timezone'] = target_tz\n",
    "    \n",
    "    return combined_data"
   ]
  },
  {
   "cell_type": "code",
   "execution_count": null,
   "id": "1577acda",
   "metadata": {},
   "outputs": [],
   "source": [
    "def create_consolidated_weekly_report(weekly_results: Dict[str, pd.DataFrame]) -> Dict[str, pd.DataFrame]:\n",
    "    \"\"\"\n",
    "    Docstring\n",
    "    \"\"\"\n",
    "    if not weekly_results:\n",
    "        return {\"error\": \"No weekly data provided\"}\n",
    "    \n",
    "    all_weeks_data = pd.concat(weekly_results.values(), ignore_index=True)\n",
    "    \n",
    "    weekly_comparison = pd.pivot_table(\n",
    "        all_weeks_data, \n",
    "        values=['MWh', 'sales_amount', 'price', 'revenue_per_mwh'],\n",
    "        index=['portfolio_id', 'asset_type'],\n",
    "        columns='year_week'\n",
    "    )\n",
    "    \n",
    "    weekly_comparison = weekly_comparison.reset_index()\n",
    "    \n",
    "    summary = all_weeks_data.groupby(['portfolio_id', 'asset_type']).agg({\n",
    "        'MWh': 'sum',\n",
    "        'sales_amount': 'sum',\n",
    "        'transaction_count': 'sum',\n",
    "        'price': 'mean',\n",
    "        'asset_count': 'first',\n",
    "        'primary_geography': 'first',\n",
    "        'portfolio_age_years': 'first'\n",
    "    }).reset_index()\n",
    "    \n",
    "    summary['avg_weekly_revenue'] = summary['sales_amount'] / len(weekly_results)\n",
    "    summary['avg_revenue_per_mwh'] = summary['sales_amount'] / summary['MWh']\n",
    "    \n",
    "    return weekly_comparison, summary, all_weeks_data"
   ]
  },
  {
   "cell_type": "code",
   "execution_count": null,
   "id": "5a3fb009",
   "metadata": {},
   "outputs": [],
   "source": []
  },
  {
   "cell_type": "code",
   "execution_count": null,
   "id": "5897c19d",
   "metadata": {},
   "outputs": [],
   "source": []
  }
 ],
 "metadata": {
  "kernelspec": {
   "display_name": "dev",
   "language": "python",
   "name": "python3"
  },
  "language_info": {
   "codemirror_mode": {
    "name": "ipython",
    "version": 3
   },
   "file_extension": ".py",
   "mimetype": "text/x-python",
   "name": "python",
   "nbconvert_exporter": "python",
   "pygments_lexer": "ipython3",
   "version": "3.12.9"
  }
 },
 "nbformat": 4,
 "nbformat_minor": 5
}
