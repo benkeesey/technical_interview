{
 "cells": [
  {
   "cell_type": "code",
   "execution_count": null,
   "id": "f1858a63",
   "metadata": {},
   "outputs": [],
   "source": [
    "import pandas as pd\n",
    "from typing import Dict\n",
    "\n",
    "from test_data import create_sample_data, get_weekly_sales_data\n",
    "from technical_interview_solution import (\n",
    "    process_sales_batch,\n",
    "    combine_sales_with_asset_data,\n",
    "    create_consolidated_weekly_report,\n",
    "    )"
   ]
  },
  {
   "cell_type": "code",
   "execution_count": null,
   "id": "e49d91b8",
   "metadata": {},
   "outputs": [],
   "source": [
    "sales_data, asset_data = create_sample_data()\n",
    "weekly_results = get_weekly_sales_data(sales_data)"
   ]
  },
  {
   "cell_type": "markdown",
   "id": "7adf6831",
   "metadata": {},
   "source": [
    "Technical Interview Question 3:\n",
    "\n",
    "3. Create a new function called `run_pipeline()` that:\n",
    "   - Processes the sales data in appropriate batches (e.g., by week)\n",
    "   - Combines each processed batch with asset data\n",
    "   - Generates a consolidated report from all processed weeks\n",
    "   - Returns the complete results dictionary\n"
   ]
  },
  {
   "cell_type": "code",
   "execution_count": null,
   "id": "8b820e50",
   "metadata": {},
   "outputs": [],
   "source": [
    "def run_pipeline(\n",
    "    weekly_results: Dict[str, pd.DataFrame],\n",
    "    asset_data: pd.DataFrame\n",
    ") -> tuple[pd.DataFrame, pd.DataFrame, pd.DataFrame]:\n",
    "    \"\"\"\n",
    "    Runs the entire sales data processing pipeline.\n",
    "    \n",
    "    This function:\n",
    "    1. Processes sales data in batches by week\n",
    "       (simulating a batched API call).\n",
    "    2. Combines each processed batch with asset data\n",
    "    3. Generates a consolidated report from all processed weeks and returns its results.\n",
    "    \n",
    "    Parameters:\n",
    "    -----------\n",
    "    weekly_results : Dict[str, pd.DataFrame]\n",
    "        Dict containing weekly sales data as if from a batched API call.\n",
    "    asset_data : pd.DataFrame\n",
    "        DataFrame containing asset data to be combined with sales data.\n",
    "        \n",
    "    Returns:\n",
    "    --------\n",
    "    tuple[pd.DataFrame, pd.DataFrame, pd.DataFrame]\n",
    "        - weekly_comparison: Pivot table comparing metrics across weeks\n",
    "        - summary: Overall summary across all weeks\n",
    "        - all_weeks_data: Complete consolidated dataset\n",
    "    \"\"\"\n",
    "    return\n"
   ]
  },
  {
   "cell_type": "code",
   "execution_count": null,
   "id": "097cb368",
   "metadata": {},
   "outputs": [],
   "source": [
    "weekly_comparison, summary, all_weeks_data = run_pipeline(weekly_results, asset_data)"
   ]
  },
  {
   "cell_type": "code",
   "execution_count": null,
   "id": "28d3faad",
   "metadata": {},
   "outputs": [],
   "source": []
  },
  {
   "cell_type": "markdown",
   "id": "2b957860",
   "metadata": {},
   "source": [
    "--------------------"
   ]
  },
  {
   "cell_type": "markdown",
   "id": "e8564293",
   "metadata": {},
   "source": [
    "Bonus:\n",
    "\n",
    "4. (Bonus) Implement a simple test using `pytest`  in `test_process_sales_data.py` for `process_sales_batch()` to validate its functionality."
   ]
  },
  {
   "cell_type": "code",
   "execution_count": null,
   "id": "f3216b58",
   "metadata": {},
   "outputs": [],
   "source": [
    "import pytest"
   ]
  },
  {
   "cell_type": "code",
   "execution_count": null,
   "id": "2caa238d",
   "metadata": {},
   "outputs": [],
   "source": [
    "!pytest test_process_sales_data.py"
   ]
  }
 ],
 "metadata": {
  "kernelspec": {
   "display_name": "dev",
   "language": "python",
   "name": "python3"
  },
  "language_info": {
   "codemirror_mode": {
    "name": "ipython",
    "version": 3
   },
   "file_extension": ".py",
   "mimetype": "text/x-python",
   "name": "python",
   "nbconvert_exporter": "python",
   "pygments_lexer": "ipython3",
   "version": "3.12.9"
  }
 },
 "nbformat": 4,
 "nbformat_minor": 5
}
